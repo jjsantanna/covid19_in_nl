{
 "cells": [
  {
   "cell_type": "markdown",
   "metadata": {},
   "source": [
    "# Getting RIVM stats on COVID-19 cases in NL and send it via Telegram "
   ]
  },
  {
   "cell_type": "markdown",
   "metadata": {},
   "source": [
    "Required libraries:"
   ]
  },
  {
   "cell_type": "code",
   "execution_count": 1,
   "metadata": {},
   "outputs": [],
   "source": [
    "import pandas as pd\n",
    "import numpy as np\n",
    "import cfscrape\n",
    "from lxml import etree\n",
    "import io\n",
    "import re\n",
    "import requests"
   ]
  },
  {
   "cell_type": "markdown",
   "metadata": {},
   "source": [
    "Scrapping the RIVM page: "
   ]
  },
  {
   "cell_type": "code",
   "execution_count": 2,
   "metadata": {},
   "outputs": [
    {
     "name": "stdout",
     "output_type": "stream",
     "text": [
      "Last update from the RIVM page: 24-03-2020 14.00\n"
     ]
    }
   ],
   "source": [
    "url=\"https://www.rivm.nl/coronavirus-kaart-van-nederland-per-gemeente\"\n",
    "\n",
    "header = {'Accept': 'text/html,application/xhtml+xml,application/xml;q=0.9',\n",
    "          'Accept-Encoding': 'gzip, deflate, sdch',\n",
    "          'Accept-Language' : 'nl-NL,nl;q=0.8,en-US;q=0.6,en;q=0.4',\n",
    "          'Cache-Control' : 'max-age=0',\n",
    "          'Connection': 'keep-alive',\n",
    "          'User-Agent': 'Mozilla/5.0 (X11; Linux x86_64) AppleWebKit/537.36 (KHTML, like Gecko) Chrome/43.0.2357.81 Safari/537.36'}\n",
    "\n",
    "scraper = cfscrape.create_scraper()\n",
    "scraped_html=scraper.get(url,headers=header).content\n",
    "html = etree.HTML(scraped_html)\n",
    "\n",
    "date = html.xpath(\"//div[@id='mapTitles']/text()\")[0].split('tot en met ')[1].split('\"')[0]\n",
    "date = pd.to_datetime(date, format='%d-%m-%Y').strftime('%d-%m-%Y')\n",
    "time = html.xpath(\"//p/text()\")[0].split()[5]\n",
    "\n",
    "data = html.xpath(\"//div[@id='csvData']/text()\")\n",
    "\n",
    "print(\"Last update from the RIVM page:\",date,time)"
   ]
  },
  {
   "cell_type": "markdown",
   "metadata": {},
   "source": [
    "Loading the data in a dataframe:"
   ]
  },
  {
   "cell_type": "code",
   "execution_count": 3,
   "metadata": {},
   "outputs": [],
   "source": [
    "df = pd.read_csv(io.StringIO('\\n'.join(str(data[0]).split('\\n')[1:])), sep=';')"
   ]
  },
  {
   "cell_type": "markdown",
   "metadata": {},
   "source": [
    "Workaround to get cases in 'unknown' municipalities:"
   ]
  },
  {
   "cell_type": "code",
   "execution_count": 4,
   "metadata": {},
   "outputs": [],
   "source": [
    "aantal_unknown_gemeente = int(re.findall(r'\\d+',html.xpath(\"//div[@class='container container-spacer-sm content nobg clearfix']/p/text()\")[3])[0])\n",
    "df.loc[0,'Gemeente']='Unknown'\n",
    "df.loc[0,'Aantal']= aantal_unknown_gemeente"
   ]
  },
  {
   "cell_type": "markdown",
   "metadata": {},
   "source": [
    "Loading previous day:"
   ]
  },
  {
   "cell_type": "code",
   "execution_count": 5,
   "metadata": {},
   "outputs": [
    {
     "name": "stdout",
     "output_type": "stream",
     "text": [
      "Previous day: 23-03-2020\n"
     ]
    }
   ],
   "source": [
    "previous_day = (pd.to_datetime(date, format='%d-%m-%Y') - np.timedelta64(1, 'D')).strftime('%d-%m-%Y')\n",
    "df_previous = pd.read_csv(\"/Users/santannajj/Desktop/covid19_in_nl/data/covid19-nl-\"+str(previous_day)+\".csv\")\n",
    "print('Previous day:',previous_day)"
   ]
  },
  {
   "cell_type": "markdown",
   "metadata": {},
   "source": [
    "Getting the list of requested Gemeentes:"
   ]
  },
  {
   "cell_type": "code",
   "execution_count": 6,
   "metadata": {},
   "outputs": [],
   "source": [
    "gemeentes_requested=pd.read_csv('/Users/santannajj/Desktop/covid19_in_nl/data/requested_municipalities.csv',header=None)[0].values.tolist()\n",
    "gemeentes_requested.sort()"
   ]
  },
  {
   "cell_type": "markdown",
   "metadata": {},
   "source": [
    "Composing the message per Gemeente in the list:"
   ]
  },
  {
   "cell_type": "code",
   "execution_count": 7,
   "metadata": {
    "scrolled": false
   },
   "outputs": [
    {
     "name": "stdout",
     "output_type": "stream",
     "text": [
      "COVID19 CASES IN THE NETHERLANDS\n",
      "HOURLY MESSAGES (From 8-21)!\n",
      "Source: https://www.rivm.nl/coronavirus-kaart-van-nederland-per-gemeente\n",
      "RIVM last update: 24-03-2020 14.00\n",
      "\n",
      "[PREVIOUS >> CURRENT NUMBERS]\n",
      "\n",
      "- TOTAL CASES IN NL: 4749 >> 5560\n",
      "- Cases in 's-Gravenhage: 53 >> 63\n",
      "- Cases in 's-Hertogenbosch: 60 >> 67\n",
      "- Cases in Altena: 25 >> 28\n",
      "- Cases in Amersfoort: 41 >> 44\n",
      "- Cases in Amstelveen: 29 >> 33\n",
      "- Cases in Amsterdam: 203 >> 250\n",
      "- Cases in Apeldoorn: 26 >> 29\n",
      "- Cases in Arnhem: 20 >> 23\n",
      "- Cases in Bergen op Zoom: 12 >> 12\n",
      "- Cases in Breda: 161 >> 167\n",
      "- Cases in Doetinchem: 6 >> 8\n",
      "- Cases in Eindhoven: 55 >> 68\n",
      "- Cases in Enschede: 20 >> 20\n",
      "- Cases in Epe: 10 >> 13\n",
      "- Cases in Haarlem: 29 >> 41\n",
      "- Cases in Haarlemmermeer: 18 >> 23\n",
      "- Cases in Hengelo (O): 15 >> 16\n",
      "- Cases in Houten: 25 >> 29\n",
      "- Cases in Leiden: 16 >> 20\n",
      "- Cases in Leusden: 7 >> 9\n",
      "- Cases in Meppel: 3 >> 3\n",
      "- Cases in Montferland: 3 >> 3\n",
      "- Cases in Nieuwegein: 11 >> 11\n",
      "- Cases in Nijmegen: 79 >> 93\n",
      "- Cases in Oost Gelre: 2 >> 6\n",
      "- Cases in Oude IJsselstreek: 4 >> 4\n",
      "- Cases in Rheden: 12 >> 15\n",
      "- Cases in Ridderkerk: 5 >> 7\n",
      "- Cases in Tiel: 6 >> 8\n",
      "- Cases in Tilburg: 193 >> 211\n",
      "- Cases in Utrecht: 145 >> 160\n",
      "- Cases in Woerden: 14 >> 19\n",
      "- Cases in Zoetermeer: 7 >> 8\n",
      "- Cases in Zuidplas: 3 >> 3\n",
      "- Cases in Zwartewaterland: 19 >> 22\n",
      "- Cases in Zwolle: 35 >> 40\n",
      "\n",
      "TELEGRAM FAILS TO SHOW ALL 355 GEMEENTES!\n",
      "Which municipality should I add here?\n",
      "Your request will appear in the next hour.\n",
      "\n",
      "More visual information at https://bit.ly/covid19nl\n"
     ]
    }
   ],
   "source": [
    "message=\"COVID19 CASES IN THE NETHERLANDS\\n\"\n",
    "message+=\"HOURLY MESSAGES (From 8-21)!\\n\"\n",
    "message+=\"Source: https://www.rivm.nl/coronavirus-kaart-van-nederland-per-gemeente\\n\"\n",
    "message+=\"RIVM last update: \"+str(date)+\" \"+ str(time)+\"\\n\"\n",
    "\n",
    "message+=\"\\n[PREVIOUS >> CURRENT NUMBERS]\\n\"\n",
    "\n",
    "aantal_total = df['Aantal'].sum()\n",
    "message+=\"\\n- TOTAL CASES IN NL: \" + str(df_previous['Aantal'].sum()) + \" >> \"+str(aantal_total) +\"\\n\"\n",
    "\n",
    "for gemeente in gemeentes_requested:\n",
    "    message += \"- Cases in \"+gemeente+\": \"+str(df_previous[df_previous['Gemeente']==gemeente]['Aantal'].values[0])+\" >> \"+str(df[df['Gemeente']==gemeente]['Aantal'].values[0])+\"\\n\"\n",
    "\n",
    "# message+=\"\\nNote: RIVM stated that \\\"the actual number of infections with COVID-19 is higher than the number of reports in this update because not everyone suspected of a COVID-19 infection is tested.\\\"\\n\"\n",
    "message+=\"\\nTELEGRAM FAILS TO SHOW ALL 355 GEMEENTES!\\nWhich municipality should I add here?\\nYour request will appear in the next hour.\"\n",
    "message+=\"\\n\\nMore visual information at https://bit.ly/covid19nl\"\n",
    "print(message)          \n"
   ]
  },
  {
   "cell_type": "markdown",
   "metadata": {},
   "source": [
    "Function to send a Telegram message:"
   ]
  },
  {
   "cell_type": "code",
   "execution_count": 8,
   "metadata": {},
   "outputs": [],
   "source": [
    "def telegram_bot_sendtext(bot_message,token,chatid):\n",
    "    bot_token = token\n",
    "    bot_chatID = chatid\n",
    "    send_text = 'https://api.telegram.org/bot' + bot_token + '/sendMessage?chat_id=' + bot_chatID + '&parse_mode=Markdown&text=' + bot_message\n",
    "    response = requests.get(send_text)\n",
    "    if response.json()['ok']:\n",
    "        return \"Message Sent!\"\n",
    "    else:\n",
    "        return \"Message failed to be sent!\""
   ]
  },
  {
   "cell_type": "markdown",
   "metadata": {},
   "source": [
    "Instantiating the function and sending a Telegram message:"
   ]
  },
  {
   "cell_type": "code",
   "execution_count": 9,
   "metadata": {},
   "outputs": [],
   "source": [
    "from bot_credentials import bot_token, bot_chatID\n",
    "print(\"bot_token:\",bot_token)\n",
    "print(\"bot_chatID:\",bot_chatID)"
   ]
  },
  {
   "cell_type": "code",
   "execution_count": 11,
   "metadata": {},
   "outputs": [
    {
     "data": {
      "text/plain": [
       "'Message Sent!'"
      ]
     },
     "execution_count": 11,
     "metadata": {},
     "output_type": "execute_result"
    }
   ],
   "source": [
    "telegram_bot_sendtext(message,bot_token,bot_chatID)"
   ]
  },
  {
   "cell_type": "markdown",
   "metadata": {},
   "source": [
    "Saving the data if it is a new day:"
   ]
  },
  {
   "cell_type": "code",
   "execution_count": 15,
   "metadata": {},
   "outputs": [
    {
     "name": "stdout",
     "output_type": "stream",
     "text": [
      "We already have this data!\n"
     ]
    }
   ],
   "source": [
    "import pathlib\n",
    "file_name = pathlib.Path('/Users/santannajj/Desktop/covid19_in_nl/data/covid19-nl-'+date+'.csv')\n",
    "if not file_name.exists ():\n",
    "    df.to_csv(file_name, index = False)\n",
    "    print(\"UHUHHHH new data, bitch!\")\n",
    "else:\n",
    "    print(\"We already have this data!\")"
   ]
  },
  {
   "cell_type": "markdown",
   "metadata": {},
   "source": [
    "Crontab line:\n",
    "```\n",
    "0 08-21 * * * /usr/local/bin/python3 /Users/santannajj/Desktop/covid19_in_nl/crawling_stats_from_rivm_covid19.py\n",
    "```"
   ]
  }
 ],
 "metadata": {
  "kernelspec": {
   "display_name": "Python 3",
   "language": "python",
   "name": "python3"
  },
  "language_info": {
   "codemirror_mode": {
    "name": "ipython",
    "version": 3
   },
   "file_extension": ".py",
   "mimetype": "text/x-python",
   "name": "python",
   "nbconvert_exporter": "python",
   "pygments_lexer": "ipython3",
   "version": "3.7.0"
  }
 },
 "nbformat": 4,
 "nbformat_minor": 2
}
